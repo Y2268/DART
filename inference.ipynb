{
 "cells": [
  {
   "cell_type": "markdown",
   "id": "201dca66",
   "metadata": {},
   "source": [
    "This zip show the core of our DART model.\n",
    "\n",
    "### Training stage\n",
    "1. We provide pretrained HQ and LQ encoder in '.experiment'.\n",
    "2. We use an alignment module which is in line with the I2T prior in our paper.This module needs text description of FFHQ dataset.\n",
    "3. run 'bash scripts/run_DART_training.sh'"
   ]
  },
  {
   "cell_type": "markdown",
   "id": "f7f12b15",
   "metadata": {},
   "source": [
    "### Inference stage\n",
    "1. We provide pretrained DART in '.experiment'.\n",
    "2. We use an alignment module which is in line with the I2T prior in our paper.This module needs text description of images you test. Here we provide a few of them in LFW-Test datasets.\n",
    "3. run 'bash scripts/test.sh'"
   ]
  }
 ],
 "metadata": {
  "language_info": {
   "name": "python"
  }
 },
 "nbformat": 4,
 "nbformat_minor": 5
}
